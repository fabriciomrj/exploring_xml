{
 "cells": [
  {
   "cell_type": "markdown",
   "id": "50614de2",
   "metadata": {},
   "source": [
    "# Explorando arquivo xml com o DOM"
   ]
  },
  {
   "cell_type": "code",
   "execution_count": 58,
   "id": "dbd4392b",
   "metadata": {},
   "outputs": [],
   "source": [
    "import xml.dom.minidom\n",
    "from xml.dom.minidom import parse, parseString"
   ]
  },
  {
   "cell_type": "code",
   "execution_count": 59,
   "id": "fd246851",
   "metadata": {},
   "outputs": [],
   "source": [
    "dom1 = parse('cf74.xml')  # parse an XML file by name\n",
    "authors = dom1.getElementsByTagName('AUTHOR')"
   ]
  },
  {
   "cell_type": "code",
   "execution_count": 60,
   "id": "d157d1d2",
   "metadata": {},
   "outputs": [],
   "source": [
    "arquivo = open('autores.xml', 'wb')\n",
    "arquivo.write('<FILE>'.encode())\n",
    "for author in authors:\n",
    "    \n",
    "    arquivo.write(str('<AUTHOR>'+author.firstChild.data+'</AUTHOR>').encode())\n",
    "arquivo.write('</FILE>'.encode())\n",
    "arquivo.close()"
   ]
  },
  {
   "cell_type": "markdown",
   "id": "979129f1",
   "metadata": {},
   "source": [
    "# Explorando arquivo xml com o ElementTree"
   ]
  },
  {
   "cell_type": "code",
   "execution_count": 55,
   "id": "22acf0d8",
   "metadata": {},
   "outputs": [],
   "source": [
    "import xml.etree.ElementTree as ET\n",
    "tree = ET.parse('cf74.xml')\n",
    "root = tree.getroot()\n",
    "titles=root.iter('TITLE')"
   ]
  },
  {
   "cell_type": "code",
   "execution_count": 56,
   "id": "d2fdb6a9",
   "metadata": {},
   "outputs": [],
   "source": [
    "arquivo = open('titulos.xml', 'wb')\n",
    "arquivo.write('<FILE>'.encode())\n",
    "for title in titles:\n",
    "    arquivo.write(str('<TITLE>'+title.text+'</TITLE>').encode())\n",
    "arquivo.write('</FILE>'.encode())\n",
    "arquivo.close()    "
   ]
  },
  {
   "cell_type": "code",
   "execution_count": null,
   "id": "ba0bdcff",
   "metadata": {},
   "outputs": [],
   "source": []
  }
 ],
 "metadata": {
  "kernelspec": {
   "display_name": "Python 3",
   "language": "python",
   "name": "python3"
  },
  "language_info": {
   "codemirror_mode": {
    "name": "ipython",
    "version": 3
   },
   "file_extension": ".py",
   "mimetype": "text/x-python",
   "name": "python",
   "nbconvert_exporter": "python",
   "pygments_lexer": "ipython3",
   "version": "3.8.8"
  }
 },
 "nbformat": 4,
 "nbformat_minor": 5
}
